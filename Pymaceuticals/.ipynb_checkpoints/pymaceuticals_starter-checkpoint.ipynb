{
 "cells": [
  {
   "cell_type": "markdown",
   "metadata": {},
   "source": [
    "## Observations and Insights "
   ]
  },
  {
   "cell_type": "markdown",
   "metadata": {},
   "source": [
    "1. Capomulin and Ramicane were the top two most widely used drugs in the study. These both also produced some outliers in their boxplots. These might be something to look into, to see what cause these two drugs to have outliers in their sample.\n",
    "2. The division of the sexes looks quite close with slighty more males(958) than females(934).\n",
    "3. Considering only a single mouse(s185) who was given Capomulin over the course of the study. The specific mouse in question saw a significant reduction in his tumor size from 45 mm3 to below 25 mm3 over the course of the study. \n"
   ]
  },
  {
   "cell_type": "markdown",
   "metadata": {},
   "source": []
  },
  {
   "cell_type": "code",
   "execution_count": 60,
   "metadata": {},
   "outputs": [],
   "source": [
    "# Dependencies and Setup\n",
    "import matplotlib.pyplot as plt\n",
    "import pandas as pd\n",
    "import scipy.stats as st\n",
    "from scipy.stats import sem\n",
    "import numpy as np\n",
    "import seaborn as sns\n",
    "\n",
    "# Study data files\n",
    "mouse_metadata_path = \"data/Mouse_metadata.csv\"\n",
    "study_results_path = \"data/Study_results.csv\"\n",
    "\n",
    "# Read the mouse data and the study results\n",
    "mouse_metadata = pd.read_csv(mouse_metadata_path)\n",
    "study_results = pd.read_csv(study_results_path)\n",
    "\n",
    "# Combine the data into a single dataset\n",
    "combined_data = pd.merge(mouse_metadata, study_results, on=\"Mouse ID\")\n",
    "combined_data.head()\n",
    "\n",
    "combined_data.columns = [column.replace(\" \", \"_\") for column in combined_data.columns] "
   ]
  },
  {
   "cell_type": "code",
   "execution_count": 61,
   "metadata": {},
   "outputs": [
    {
     "data": {
      "text/plain": [
       "1893"
      ]
     },
     "execution_count": 61,
     "metadata": {},
     "output_type": "execute_result"
    }
   ],
   "source": [
    "# Checking the number of mice in the DataFrame.\n",
    "len(combined_data[\"Mouse_ID\"])"
   ]
  },
  {
   "cell_type": "code",
   "execution_count": 62,
   "metadata": {},
   "outputs": [
    {
     "name": "stdout",
     "output_type": "stream",
     "text": [
      "    Mouse_ID  Timepoint\n",
      "909     g989          0\n",
      "911     g989          5\n",
      "913     g989         10\n",
      "915     g989         15\n",
      "917     g989         20\n"
     ]
    }
   ],
   "source": [
    "# Getting the duplicate mice by ID number that shows up for Mouse ID and Timepoint. \n",
    "\n",
    "df_dup = pd.DataFrame(combined_data, columns=[\"Mouse_ID\", \"Timepoint\"])\n",
    "\n",
    "duplicate_mice = df_dup[df_dup.duplicated()]\n",
    "\n",
    "print(duplicate_mice)\n",
    "\n"
   ]
  },
  {
   "cell_type": "code",
   "execution_count": 63,
   "metadata": {},
   "outputs": [
    {
     "data": {
      "text/html": [
       "<div>\n",
       "<style scoped>\n",
       "    .dataframe tbody tr th:only-of-type {\n",
       "        vertical-align: middle;\n",
       "    }\n",
       "\n",
       "    .dataframe tbody tr th {\n",
       "        vertical-align: top;\n",
       "    }\n",
       "\n",
       "    .dataframe thead th {\n",
       "        text-align: right;\n",
       "    }\n",
       "</style>\n",
       "<table border=\"1\" class=\"dataframe\">\n",
       "  <thead>\n",
       "    <tr style=\"text-align: right;\">\n",
       "      <th></th>\n",
       "      <th>Mouse_ID</th>\n",
       "      <th>Drug_Regimen</th>\n",
       "      <th>Sex</th>\n",
       "      <th>Age_months</th>\n",
       "      <th>Weight_(g)</th>\n",
       "      <th>Timepoint</th>\n",
       "      <th>Tumor_Volume_(mm3)</th>\n",
       "      <th>Metastatic_Sites</th>\n",
       "    </tr>\n",
       "  </thead>\n",
       "  <tbody>\n",
       "    <tr>\n",
       "      <td>908</td>\n",
       "      <td>g989</td>\n",
       "      <td>Propriva</td>\n",
       "      <td>Female</td>\n",
       "      <td>21</td>\n",
       "      <td>26</td>\n",
       "      <td>0</td>\n",
       "      <td>45.000000</td>\n",
       "      <td>0</td>\n",
       "    </tr>\n",
       "    <tr>\n",
       "      <td>909</td>\n",
       "      <td>g989</td>\n",
       "      <td>Propriva</td>\n",
       "      <td>Female</td>\n",
       "      <td>21</td>\n",
       "      <td>26</td>\n",
       "      <td>0</td>\n",
       "      <td>45.000000</td>\n",
       "      <td>0</td>\n",
       "    </tr>\n",
       "    <tr>\n",
       "      <td>910</td>\n",
       "      <td>g989</td>\n",
       "      <td>Propriva</td>\n",
       "      <td>Female</td>\n",
       "      <td>21</td>\n",
       "      <td>26</td>\n",
       "      <td>5</td>\n",
       "      <td>48.786801</td>\n",
       "      <td>0</td>\n",
       "    </tr>\n",
       "    <tr>\n",
       "      <td>911</td>\n",
       "      <td>g989</td>\n",
       "      <td>Propriva</td>\n",
       "      <td>Female</td>\n",
       "      <td>21</td>\n",
       "      <td>26</td>\n",
       "      <td>5</td>\n",
       "      <td>47.570392</td>\n",
       "      <td>0</td>\n",
       "    </tr>\n",
       "    <tr>\n",
       "      <td>912</td>\n",
       "      <td>g989</td>\n",
       "      <td>Propriva</td>\n",
       "      <td>Female</td>\n",
       "      <td>21</td>\n",
       "      <td>26</td>\n",
       "      <td>10</td>\n",
       "      <td>51.745156</td>\n",
       "      <td>0</td>\n",
       "    </tr>\n",
       "    <tr>\n",
       "      <td>913</td>\n",
       "      <td>g989</td>\n",
       "      <td>Propriva</td>\n",
       "      <td>Female</td>\n",
       "      <td>21</td>\n",
       "      <td>26</td>\n",
       "      <td>10</td>\n",
       "      <td>49.880528</td>\n",
       "      <td>0</td>\n",
       "    </tr>\n",
       "    <tr>\n",
       "      <td>914</td>\n",
       "      <td>g989</td>\n",
       "      <td>Propriva</td>\n",
       "      <td>Female</td>\n",
       "      <td>21</td>\n",
       "      <td>26</td>\n",
       "      <td>15</td>\n",
       "      <td>51.325852</td>\n",
       "      <td>1</td>\n",
       "    </tr>\n",
       "    <tr>\n",
       "      <td>915</td>\n",
       "      <td>g989</td>\n",
       "      <td>Propriva</td>\n",
       "      <td>Female</td>\n",
       "      <td>21</td>\n",
       "      <td>26</td>\n",
       "      <td>15</td>\n",
       "      <td>53.442020</td>\n",
       "      <td>0</td>\n",
       "    </tr>\n",
       "    <tr>\n",
       "      <td>916</td>\n",
       "      <td>g989</td>\n",
       "      <td>Propriva</td>\n",
       "      <td>Female</td>\n",
       "      <td>21</td>\n",
       "      <td>26</td>\n",
       "      <td>20</td>\n",
       "      <td>55.326122</td>\n",
       "      <td>1</td>\n",
       "    </tr>\n",
       "    <tr>\n",
       "      <td>917</td>\n",
       "      <td>g989</td>\n",
       "      <td>Propriva</td>\n",
       "      <td>Female</td>\n",
       "      <td>21</td>\n",
       "      <td>26</td>\n",
       "      <td>20</td>\n",
       "      <td>54.657650</td>\n",
       "      <td>1</td>\n",
       "    </tr>\n",
       "    <tr>\n",
       "      <td>918</td>\n",
       "      <td>g989</td>\n",
       "      <td>Propriva</td>\n",
       "      <td>Female</td>\n",
       "      <td>21</td>\n",
       "      <td>26</td>\n",
       "      <td>25</td>\n",
       "      <td>56.045564</td>\n",
       "      <td>1</td>\n",
       "    </tr>\n",
       "    <tr>\n",
       "      <td>919</td>\n",
       "      <td>g989</td>\n",
       "      <td>Propriva</td>\n",
       "      <td>Female</td>\n",
       "      <td>21</td>\n",
       "      <td>26</td>\n",
       "      <td>30</td>\n",
       "      <td>59.082294</td>\n",
       "      <td>1</td>\n",
       "    </tr>\n",
       "    <tr>\n",
       "      <td>920</td>\n",
       "      <td>g989</td>\n",
       "      <td>Propriva</td>\n",
       "      <td>Female</td>\n",
       "      <td>21</td>\n",
       "      <td>26</td>\n",
       "      <td>35</td>\n",
       "      <td>62.570880</td>\n",
       "      <td>2</td>\n",
       "    </tr>\n",
       "  </tbody>\n",
       "</table>\n",
       "</div>"
      ],
      "text/plain": [
       "    Mouse_ID Drug_Regimen     Sex  Age_months  Weight_(g)  Timepoint  \\\n",
       "908     g989     Propriva  Female          21          26          0   \n",
       "909     g989     Propriva  Female          21          26          0   \n",
       "910     g989     Propriva  Female          21          26          5   \n",
       "911     g989     Propriva  Female          21          26          5   \n",
       "912     g989     Propriva  Female          21          26         10   \n",
       "913     g989     Propriva  Female          21          26         10   \n",
       "914     g989     Propriva  Female          21          26         15   \n",
       "915     g989     Propriva  Female          21          26         15   \n",
       "916     g989     Propriva  Female          21          26         20   \n",
       "917     g989     Propriva  Female          21          26         20   \n",
       "918     g989     Propriva  Female          21          26         25   \n",
       "919     g989     Propriva  Female          21          26         30   \n",
       "920     g989     Propriva  Female          21          26         35   \n",
       "\n",
       "     Tumor_Volume_(mm3)  Metastatic_Sites  \n",
       "908           45.000000                 0  \n",
       "909           45.000000                 0  \n",
       "910           48.786801                 0  \n",
       "911           47.570392                 0  \n",
       "912           51.745156                 0  \n",
       "913           49.880528                 0  \n",
       "914           51.325852                 1  \n",
       "915           53.442020                 0  \n",
       "916           55.326122                 1  \n",
       "917           54.657650                 1  \n",
       "918           56.045564                 1  \n",
       "919           59.082294                 1  \n",
       "920           62.570880                 2  "
      ]
     },
     "execution_count": 63,
     "metadata": {},
     "output_type": "execute_result"
    }
   ],
   "source": [
    "# Optional: Get all the data for the duplicate mouse ID. \n",
    "dup_mouse = combined_data.loc[combined_data[\"Mouse_ID\"] == \"g989\"]\n",
    "dup_mouse"
   ]
  },
  {
   "cell_type": "code",
   "execution_count": 64,
   "metadata": {},
   "outputs": [],
   "source": [
    "# Create a clean DataFrame by dropping the duplicate mouse by its ID.\n",
    "\n",
    "combined_data.sort_values(\"Mouse_ID\", inplace=True)\n",
    "\n",
    "combined_data.drop_duplicates(inplace=True)\n"
   ]
  },
  {
   "cell_type": "code",
   "execution_count": 65,
   "metadata": {},
   "outputs": [
    {
     "data": {
      "text/plain": [
       "1892"
      ]
     },
     "execution_count": 65,
     "metadata": {},
     "output_type": "execute_result"
    }
   ],
   "source": [
    "# Checking the number of mice in the clean DataFrame.\n",
    "#The number has changed from 1893 to 1891 because the duplicate\n",
    "\n",
    "\n",
    "len(combined_data)"
   ]
  },
  {
   "cell_type": "markdown",
   "metadata": {},
   "source": [
    "## Summary Statistics"
   ]
  },
  {
   "cell_type": "code",
   "execution_count": 66,
   "metadata": {},
   "outputs": [
    {
     "name": "stdout",
     "output_type": "stream",
     "text": [
      "50.45126032511633\n",
      "48.95469674\n",
      "ModeResult(mode=array([45.]), count=array([249]))\n",
      "79.1003760467165\n",
      "8.893839218622997\n",
      "0.20452363820916164\n"
     ]
    }
   ],
   "source": [
    "# Generate a summary statistics table of mean, median, variance, standard deviation, and SEM of the tumor volume for each regimen\n",
    "\n",
    "tumor_stats = combined_data['Tumor_Volume_(mm3)']\n",
    "\n",
    "#mean\n",
    "tumor_mean = np.mean(tumor_stats)\n",
    "print(tumor_mean)\n",
    "\n",
    "#median\n",
    "tumor_median = np.median(tumor_stats)\n",
    "print(tumor_median)\n",
    "\n",
    "#mode\n",
    "tumor_mode = st.mode(tumor_stats)\n",
    "print(tumor_mode)\n",
    "\n",
    "#variance\n",
    "tumor_variance = np.var(tumor_stats, ddof=0)\n",
    "print(tumor_variance)\n",
    "\n",
    "#standard deviations\n",
    "tumor_sd = np.std(tumor_stats, ddof=0)\n",
    "print(tumor_sd)\n",
    "\n",
    "#Standard Error of the Mean (SEM)\n",
    "tumor_sem = (sem(tumor_stats))\n",
    "print(tumor_sem)\n"
   ]
  },
  {
   "cell_type": "code",
   "execution_count": 67,
   "metadata": {
    "scrolled": true
   },
   "outputs": [
    {
     "data": {
      "text/html": [
       "<div>\n",
       "<style scoped>\n",
       "    .dataframe tbody tr th:only-of-type {\n",
       "        vertical-align: middle;\n",
       "    }\n",
       "\n",
       "    .dataframe tbody tr th {\n",
       "        vertical-align: top;\n",
       "    }\n",
       "\n",
       "    .dataframe thead th {\n",
       "        text-align: right;\n",
       "    }\n",
       "</style>\n",
       "<table border=\"1\" class=\"dataframe\">\n",
       "  <thead>\n",
       "    <tr style=\"text-align: right;\">\n",
       "      <th></th>\n",
       "      <th>Mean</th>\n",
       "      <th>Median</th>\n",
       "      <th>Variance</th>\n",
       "      <th>Standard Deviation</th>\n",
       "      <th>SEM</th>\n",
       "    </tr>\n",
       "  </thead>\n",
       "  <tbody>\n",
       "    <tr>\n",
       "      <td>0</td>\n",
       "      <td>50.45126</td>\n",
       "      <td>48.954697</td>\n",
       "      <td>79.100376</td>\n",
       "      <td>8.893839</td>\n",
       "      <td>0.204524</td>\n",
       "    </tr>\n",
       "  </tbody>\n",
       "</table>\n",
       "</div>"
      ],
      "text/plain": [
       "       Mean     Median   Variance  Standard Deviation       SEM\n",
       "0  50.45126  48.954697  79.100376            8.893839  0.204524"
      ]
     },
     "execution_count": 67,
     "metadata": {},
     "output_type": "execute_result"
    }
   ],
   "source": [
    "# Generate a summary statistics table of mean, median, variance, standard deviation, and SEM of the tumor volume for each regimen\n",
    "table = {\n",
    "    'Mean':[tumor_mean],\n",
    "    'Median': [tumor_median],\n",
    "    'Variance': [tumor_variance],\n",
    "    'Standard Deviation': [tumor_sd],\n",
    "    'SEM': [tumor_sem]}\n",
    "\n",
    "tumor_stats_table = pd.DataFrame(table)\n",
    "\n",
    "tumor_stats_table\n",
    "\n"
   ]
  },
  {
   "cell_type": "markdown",
   "metadata": {},
   "source": [
    "## Bar Plots"
   ]
  },
  {
   "cell_type": "code",
   "execution_count": 96,
   "metadata": {},
   "outputs": [
    {
     "data": {
      "text/plain": [
       "Text(0, 0.5, 'Number of Mice')"
      ]
     },
     "execution_count": 96,
     "metadata": {},
     "output_type": "execute_result"
    },
    {
     "data": {
      "image/png": "[encoded data removed]",
      "text/plain": [
       "<Figure size 432x288 with 1 Axes>"
      ]
     },
     "metadata": {
      "needs_background": "light"
     },
     "output_type": "display_data"
    }
   ],
   "source": [
    "# Generate a bar plot showing the number of mice per time point for each treatment throughout the course of the study using pandas. \n",
    "# Filter the DataFrame down only to those columns to chart\n",
    "pd_mice_time = combined_data[\"Drug_Regimen\"].value_counts()\n",
    "\n",
    "\n",
    "\n",
    "# Set the index to be \"State\" so they will be used as labels\n",
    "#pd_mice_time = pd_mice_time.set_index(\"Timepoint\")\n",
    "\n",
    "#pd_mice_time.head(30)\n",
    "\n",
    "# Use DataFrame.plot() in order to create a bar chart of the data\n",
    "pd_mice_time.plot(kind=\"bar\", figsize=(6,4), color='b')\n",
    "\n",
    "# Set a title for the chart\n",
    "plt.title(\"Mice Treated Over Time\")\n",
    "plt.xlabel(\"Treatment\")\n",
    "plt.ylabel(\"Number of Mice\")\n",
    "\n",
    "\n",
    "#plt.show()\n",
    "#plt.tight_layout()"
   ]
  },
  {
   "cell_type": "code",
   "execution_count": 70,
   "metadata": {},
   "outputs": [
    {
     "name": "stdout",
     "output_type": "stream",
     "text": [
      "Capomulin    230\n",
      "Ramicane     228\n",
      "Ketapril     188\n",
      "Naftisol     186\n",
      "Zoniferol    182\n",
      "Stelasyn     181\n",
      "Placebo      181\n",
      "Ceftamin     178\n",
      "Infubinol    178\n",
      "Propriva     160\n",
      "Name: Drug_Regimen, dtype: int64\n"
     ]
    },
    {
     "data": {
      "text/plain": [
       "[160, 178, 178, 181, 181, 182, 186, 188, 228, 230]"
      ]
     },
     "execution_count": 70,
     "metadata": {},
     "output_type": "execute_result"
    }
   ],
   "source": [
    "num_mice_time_original = combined_data[\"Drug_Regimen\"].value_counts()\n",
    "num_mice_time = list(num_mice_time_original)\n",
    "print(num_mice_time_original)\n",
    "sorted(num_mice_time)"
   ]
  },
  {
   "cell_type": "code",
   "execution_count": 71,
   "metadata": {},
   "outputs": [],
   "source": [
    "drugs_given = combined_data[\"Drug_Regimen\"].unique()\n",
    "drugs_given = list(drugs_given)\n",
    "#sorted(drugs_given)"
   ]
  },
  {
   "cell_type": "code",
   "execution_count": 92,
   "metadata": {},
   "outputs": [
    {
     "data": {
      "text/plain": [
       "(0, 240)"
      ]
     },
     "execution_count": 92,
     "metadata": {},
     "output_type": "execute_result"
    },
    {
     "data": {
      "image/png": "[encoded data removed]",
      "text/plain": [
       "<Figure size 432x288 with 1 Axes>"
      ]
     },
     "metadata": {
      "needs_background": "light"
     },
     "output_type": "display_data"
    }
   ],
   "source": [
    "# Generate a bar plot showing the number of mice per time point for each treatment throughout the course of the study using pyplot.\n",
    "#x_axis should equal the drugs\n",
    "#y_axis should equal the mice getting those druges \n",
    "\n",
    "x_axis = np.arange(len(num_mice_time))\n",
    "tick_locations = [value for value in x_axis]\n",
    "\n",
    "drugs = \"Capomulin\", \"Ramicane\", \"Ketapril\", \"Naftisol\", \"Zoniferol\", \"Stelasyn\", \"Placebo\", \"Ceftamin\",\"Infubinol\", \"Propriva\"\n",
    "\n",
    "y_axis = num_mice_time\n",
    "\n",
    "\n",
    "plt.figure(figsize=(6,4))\n",
    "plt.bar(x_axis, y_axis, color='b', width = .5)\n",
    "plt.xticks(tick_locations, drugs, rotation=\"vertical\")\n",
    "\n",
    "plt.title(\"Mice Treated Over Time\")\n",
    "plt.xlabel(\"Treatment\")\n",
    "plt.ylabel(\"Number of Mice\")\n",
    "\n",
    "# Sets the x limits of the current chart\n",
    "plt.xlim(-0.75, len(x_axis)-0.25)\n",
    "\n",
    "# Sets the y limits of the current chart\n",
    "plt.ylim(0, max(y_axis)+10)\n",
    "\n",
    "#figure size\n"
   ]
  },
  {
   "cell_type": "markdown",
   "metadata": {},
   "source": [
    "## Pie Plots"
   ]
  },
  {
   "cell_type": "code",
   "execution_count": 40,
   "metadata": {},
   "outputs": [
    {
     "data": {
      "image/png": "[encoded data removed]",
      "text/plain": [
       "<Figure size 360x360 with 1 Axes>"
      ]
     },
     "metadata": {},
     "output_type": "display_data"
    }
   ],
   "source": [
    "# Generate a pie plot showing the distribution of female versus male mice using pandas\n",
    "# Filter the DataFrame down only to those columns to chart\n",
    "sex_df = pd.DataFrame({\n",
    "    \" \": [958, 934]},\n",
    "    index=[\"Male\", \"Female\"])\n",
    "\n",
    "\n",
    "df = pd.DataFrame({'mass': [0.330, 4.87 , 5.97],\n",
    "                   'radius': [2439.7, 6051.8, 6378.1]},\n",
    "                  index=['Mercury', 'Venus', 'Earth'])\n",
    "\n",
    "\n",
    "plot = sex_df.plot.pie(y=' ', figsize=(5, 5))\n"
   ]
  },
  {
   "cell_type": "code",
   "execution_count": 41,
   "metadata": {},
   "outputs": [
    {
     "name": "stdout",
     "output_type": "stream",
     "text": [
      "Male      958\n",
      "Female    934\n",
      "Name: Sex, dtype: int64\n"
     ]
    }
   ],
   "source": [
    "# Generate a pie plot showing the distribution of female versus male mice using pyplot\n",
    "\n",
    "sex = combined_data['Sex'].value_counts()\n",
    "print(sex)\n",
    "\n",
    "\n",
    "# Labels for the sections of our pie chart\n",
    "labels = [\"Female\", \"Male\"]\n",
    "\n",
    "# The values of each section of the pie chart\n",
    "count = [934, 958]\n",
    "\n",
    "# The colors of each section of the pie chart\n",
    "colors = [\"orange\", \"blue\"]\n",
    "\n",
    "# Tells matplotlib to seperate the \"Humans\" section from the others\n",
    "explode = (0, 0)"
   ]
  },
  {
   "cell_type": "code",
   "execution_count": 42,
   "metadata": {},
   "outputs": [
    {
     "data": {
      "text/plain": [
       "<matplotlib.legend.Legend at 0x24485191048>"
      ]
     },
     "execution_count": 42,
     "metadata": {},
     "output_type": "execute_result"
    },
    {
     "data": {
      "image/png": "[encoded data removed]",
      "text/plain": [
       "<Figure size 432x288 with 1 Axes>"
      ]
     },
     "metadata": {},
     "output_type": "display_data"
    }
   ],
   "source": [
    "plt.pie(count, explode=explode, labels=labels, colors=colors, shadow=True, startangle=180)\n",
    "\n",
    "plt.legend(labels, loc=\"best\")"
   ]
  },
  {
   "cell_type": "code",
   "execution_count": 58,
   "metadata": {},
   "outputs": [],
   "source": [
    "#combined_data[\"Drug_Regimen\"].head(50)"
   ]
  },
  {
   "cell_type": "markdown",
   "metadata": {},
   "source": [
    "## Quartiles, Outliers and Boxplots"
   ]
  },
  {
   "cell_type": "code",
   "execution_count": 97,
   "metadata": {},
   "outputs": [],
   "source": [
    "#Calculate the final tumor volume of each mouse across four of the most promising treatment regimens: \n",
    "#Capomulin, Ramicane, Infubinol, and Ceftamin.\n",
    "\n",
    "combined_data.columns = [column.replace(\" \", \"_\") for column in combined_data.columns] \n",
    "combined_data\n",
    "\n",
    "capomulin = combined_data.loc[combined_data[\"Drug_Regimen\"] == \"Capomulin\"][\"Tumor_Volume_(mm3)\"]\n",
    "ramicane = combined_data.loc[combined_data[\"Drug_Regimen\"] == \"Ramicane\"][\"Tumor_Volume_(mm3)\"]\n",
    "infubinol = combined_data.loc[combined_data[\"Drug_Regimen\"] == \"Infubinol\"][\"Tumor_Volume_(mm3)\"]\n",
    "ceftamin = combined_data.loc[combined_data[\"Drug_Regimen\"] == \"Ceftamin\"][\"Tumor_Volume_(mm3)\"]\n",
    "\n",
    "\n",
    "\n",
    "#capomulin = combined_data.query('Drug_Regimen in \"Capomulin\" & Timepoint == \"45\"')[\"Tumor_Volume_(mm3)\"]\n",
    "# ramicane = combined_data.query('Drug_Regimen in \"Ramicane\" & Timepoint == \"45\"')[\"Tumor_Volume_(mm3)\"]\n",
    "# infubinol = combined_data.query('Drug_Regimen in \"Infubinol\" & Timepoint == \"45\"')[\"Tumor_Volume_(mm3)\"]\n",
    "# ceftamin = combined_data.query('Drug_Regimen in \"Ceftamin\" & Timepoint == \"45\"')[\"Tumor_Volume_(mm3)\"]\n",
    "\n",
    "\n",
    "#print(capomulin)\n",
    "# print(ramicane)\n",
    "# print(infubinol)\n",
    "# print(ceftamin)\n",
    "\n",
    "\n",
    "\n"
   ]
  },
  {
   "cell_type": "code",
   "execution_count": 49,
   "metadata": {},
   "outputs": [
    {
     "name": "stdout",
     "output_type": "stream",
     "text": [
      "The lower quartile of Capomulin is: 37.685932865\n",
      "The upper quartile of Capomulin is: 45.0\n",
      "The interquartile range of Capomulin is: 7.314067135000002\n",
      "Values below 26.714832162499995 could be outliers.\n",
      "Values above 55.9711007025 could be outliers.\n"
     ]
    }
   ],
   "source": [
    "#Capomulin quartiles and IQR and quantitatively determine if there are any potential outliers\n",
    "cap_quartiles = capomulin.quantile([.25,.5,.75])\n",
    "cap_lowerq = cap_quartiles[0.25]\n",
    "cap_upperq = cap_quartiles[0.75]\n",
    "cap_iqr = cap_upperq-cap_lowerq\n",
    "\n",
    "print(f\"The lower quartile of Capomulin is: {cap_lowerq}\")\n",
    "print(f\"The upper quartile of Capomulin is: {cap_upperq}\")\n",
    "print(f\"The interquartile range of Capomulin is: {cap_iqr}\")\n",
    "\n",
    "cap_lower_bound = cap_lowerq - (1.5*cap_iqr)\n",
    "cap_upper_bound = cap_upperq + (1.5*cap_iqr)\n",
    "print(f\"Values below {cap_lower_bound} could be outliers.\")\n",
    "print(f\"Values above {cap_upper_bound} could be outliers.\")"
   ]
  },
  {
   "cell_type": "code",
   "execution_count": 50,
   "metadata": {},
   "outputs": [
    {
     "name": "stdout",
     "output_type": "stream",
     "text": [
      "The lower quartile of Ramicane is: 36.67463458499999\n",
      "The upper quartile of Ramicane is: 45.0\n",
      "The interquartile range of Ramicane is: 8.325365415000007\n",
      "Values below 24.18658646249998 could be outliers.\n",
      "Values above 57.48804812250001 could be outliers.\n"
     ]
    }
   ],
   "source": [
    "#Ramicane quartiles and IQR and quantitatively determine if there are any potential outliers\n",
    "ram_quartiles = ramicane.quantile([.25,.5,.75])\n",
    "ram_lowerq = ram_quartiles[0.25]\n",
    "ram_upperq = ram_quartiles[0.75]\n",
    "ram_iqr = ram_upperq-ram_lowerq\n",
    "\n",
    "print(f\"The lower quartile of Ramicane is: {ram_lowerq}\")\n",
    "print(f\"The upper quartile of Ramicane is: {ram_upperq}\")\n",
    "print(f\"The interquartile range of Ramicane is: {ram_iqr}\")\n",
    "\n",
    "ram_lower_bound = ram_lowerq - (1.5*ram_iqr)\n",
    "ram_upper_bound = ram_upperq + (1.5*ram_iqr)\n",
    "print(f\"Values below {ram_lower_bound} could be outliers.\")\n",
    "print(f\"Values above {ram_upper_bound} could be outliers.\")"
   ]
  },
  {
   "cell_type": "code",
   "execution_count": 52,
   "metadata": {},
   "outputs": [
    {
     "name": "stdout",
     "output_type": "stream",
     "text": [
      "The lower quartile of Infubinol is: 47.3123533\n",
      "The upper quartile of Infubinol is: 57.314443967500004\n",
      "The interquartile range of Infubinol is: 10.002090667500006\n",
      "Values below 32.309217298749985 could be outliers.\n",
      "Values above 72.31757996875001 could be outliers.\n"
     ]
    }
   ],
   "source": [
    "#Infubinol quartiles and IQR and quantitatively determine if there are any potential outliers\n",
    "inf_quartiles = infubinol.quantile([.25,.5,.75])\n",
    "inf_lowerq = inf_quartiles[0.25]\n",
    "inf_upperq = inf_quartiles[0.75]\n",
    "inf_iqr = inf_upperq-inf_lowerq\n",
    "\n",
    "print(f\"The lower quartile of Infubinol is: {inf_lowerq}\")\n",
    "print(f\"The upper quartile of Infubinol is: {inf_upperq}\")\n",
    "print(f\"The interquartile range of Infubinol is: {inf_iqr}\")\n",
    "\n",
    "inf_lower_bound = inf_lowerq - (1.5*inf_iqr)\n",
    "inf_upper_bound = inf_upperq + (1.5*inf_iqr)\n",
    "print(f\"Values below {inf_lower_bound} could be outliers.\")\n",
    "print(f\"Values above {inf_upper_bound} could be outliers.\")"
   ]
  },
  {
   "cell_type": "code",
   "execution_count": 53,
   "metadata": {},
   "outputs": [
    {
     "name": "stdout",
     "output_type": "stream",
     "text": [
      "The lower quartile of Ceftamin is: 47.208427112500004\n",
      "The upper quartile of Ceftamin is: 56.801437570000004\n",
      "The interquartile range of Ceftamin is: 9.5930104575\n",
      "Values below 32.818911426250004 could be outliers.\n",
      "Values above 71.19095325625 could be outliers.\n"
     ]
    }
   ],
   "source": [
    "#Ceftamin quartiles and IQR and quantitatively determine if there are any potential outliers\n",
    "cef_quartiles = ceftamin.quantile([.25,.5,.75])\n",
    "cef_lowerq = cef_quartiles[0.25]\n",
    "cef_upperq = cef_quartiles[0.75]\n",
    "cef_iqr = cef_upperq-cef_lowerq\n",
    "\n",
    "print(f\"The lower quartile of Ceftamin is: {cef_lowerq}\")\n",
    "print(f\"The upper quartile of Ceftamin is: {cef_upperq}\")\n",
    "print(f\"The interquartile range of Ceftamin is: {cef_iqr}\")\n",
    "\n",
    "cef_lower_bound = cef_lowerq - (1.5*cef_iqr)\n",
    "cef_upper_bound = cef_upperq + (1.5*cef_iqr)\n",
    "print(f\"Values below {cef_lower_bound} could be outliers.\")\n",
    "print(f\"Values above {cef_upper_bound} could be outliers.\")"
   ]
  },
  {
   "cell_type": "code",
   "execution_count": 98,
   "metadata": {},
   "outputs": [
    {
     "data": {
      "image/png": "[encoded data removed]",
      "text/plain": [
       "<Figure size 432x288 with 1 Axes>"
      ]
     },
     "metadata": {
      "needs_background": "light"
     },
     "output_type": "display_data"
    }
   ],
   "source": [
    "# Generate a box plot of the final tumor volume of each mouse across four regimens of interest\n",
    "\n",
    "outlier = dict(markerfacecolor='b', marker='o')\n",
    "\n",
    "data = [capomulin, ramicane, ceftamin, infubinol]\n",
    "fig7, ax7 = plt.subplots()\n",
    "ax7.set_title('Four Major Treatment Regimens')\n",
    "ax7.boxplot(data, flierprops=outlier)\n",
    "plt.xticks([1, 2, 3, 4], ['Capomulin', 'Ramicane', 'Ceftamin', 'Infubinol'])\n",
    "plt.ylabel(\"Final Tumor Volume\")\n",
    "plt.show()"
   ]
  },
  {
   "cell_type": "markdown",
   "metadata": {},
   "source": [
    "## Line and Scatter Plots"
   ]
  },
  {
   "cell_type": "code",
   "execution_count": 55,
   "metadata": {},
   "outputs": [
    {
     "data": {
      "text/plain": [
       "Text(0, 0.5, 'Tumor Volume (mm3)')"
      ]
     },
     "execution_count": 55,
     "metadata": {},
     "output_type": "execute_result"
    },
    {
     "data": {
      "image/png": "[encoded data removed]",
      "text/plain": [
       "<Figure size 432x288 with 1 Axes>"
      ]
     },
     "metadata": {
      "needs_background": "light"
     },
     "output_type": "display_data"
    }
   ],
   "source": [
    "# Generate a line plot of time point versus tumor volume for a mouse treated with Capomulin\n",
    "\n",
    "              \n",
    "tumor_s185 = combined_data.loc[combined_data[\"Mouse_ID\"] == \"s185\"][\"Tumor_Volume_(mm3)\"]\n",
    "tumor_s185 = list(tumor_s185)\n",
    "tumor_s185.sort(reverse=True)\n",
    "#print(tumor_s185)\n",
    "\n",
    "\n",
    "# print(tumor_s185)\n",
    "x_axis = np.arange(0,50,5)\n",
    "x_axis\n",
    "\n",
    "s185, = plt.plot(x_axis, tumor_s185, marker=\"+\",color=\"blue\", linewidth=1, label=\"Mouse s185\")\n",
    "\n",
    "# Set our legend to where the chart thinks is best\n",
    "plt.legend(handles=[s185], loc=\"best\")\n",
    "\n",
    "# Create labels for the X and Y axis\n",
    "plt.xlabel(\"Timepoint\")\n",
    "plt.ylabel(\"Tumor Volume (mm3)\")"
   ]
  },
  {
   "cell_type": "code",
   "execution_count": 101,
   "metadata": {},
   "outputs": [
    {
     "data": {
      "text/plain": [
       "Text(0, 0.5, 'Tumor Volume (mm3)')"
      ]
     },
     "execution_count": 101,
     "metadata": {},
     "output_type": "execute_result"
    },
    {
     "data": {
      "image/png": "[encoded data removed]",
      "text/plain": [
       "<Figure size 432x288 with 1 Axes>"
      ]
     },
     "metadata": {
      "needs_background": "light"
     },
     "output_type": "display_data"
    }
   ],
   "source": [
    "# Generate a scatter plot of mouse weight versus average tumor volume for the Capomulin regimen\n",
    "\n",
    "capomulin_data = combined_data.loc[(combined_data[\"Drug_Regimen\"] == \"Capomulin\"),:]\n",
    "\n",
    "capomulin_avg_tumor = capomulin_data.groupby(capomulin_data[\"Mouse_ID\"])[\"Tumor_Volume_(mm3)\"].mean()\n",
    "capomulin_avg_tumor\n",
    "\n",
    "capomulin_avg_weight = capomulin_data.groupby(capomulin_data[\"Mouse_ID\"])[\"Weight_(g)\"].mean()\n",
    "capomulin_avg_weight\n",
    "\n",
    "\n",
    "plt.scatter(capomulin_avg_weight,capomulin_avg_tumor, marker=\"o\", facecolors=\"red\", edgecolors=\"black\", s=capomulin_avg_tumor, alpha=0.75)\n",
    "\n",
    "# Create a title, x label, and y label for our chart\n",
    "plt.title(\"Mouse Weight v Average Tumor Volume (Capomulin)\")\n",
    "plt.xlabel('Weight (g)')\n",
    "plt.ylabel('Tumor Volume (mm3)')"
   ]
  },
  {
   "cell_type": "markdown",
   "metadata": {},
   "source": [
    "## Correlation and Regression"
   ]
  },
  {
   "cell_type": "code",
   "execution_count": 110,
   "metadata": {},
   "outputs": [
    {
     "data": {
      "image/png": "[encoded data removed]",
      "text/plain": [
       "<Figure size 432x288 with 1 Axes>"
      ]
     },
     "metadata": {
      "needs_background": "light"
     },
     "output_type": "display_data"
    },
    {
     "name": "stdout",
     "output_type": "stream",
     "text": [
      "The correlation coefficient between weight and tumor size is 0.84\n"
     ]
    }
   ],
   "source": [
    "# Calculate the correlation coefficient and linear regression model \n",
    "# for mouse weight and average tumor volume for the Capomulin regimen\n",
    "\n",
    "# Perform a linear regression on mouse weight versus tumor average\n",
    "slope, int, r, p, std_err = st.linregress(capomulin_avg_weight, capomulin_avg_tumor)\n",
    "\n",
    "\n",
    "# Create equation of line to calculate average tumor\n",
    "fit = slope * capomulin_avg_weight + int\n",
    "\n",
    "\n",
    "# Plot the linear model on top of scatter plot \n",
    "plt.scatter(capomulin_avg_weight,capomulin_avg_tumor, marker=\"o\", facecolors=\"red\", edgecolors=\"black\", s=capomulin_avg_tumor, alpha=0.75)\n",
    "plt.plot(capomulin_avg_weight,fit,\"--\", color='black')\n",
    "plt.xticks(capomulin_avg_weight)\n",
    "plt.title(\"Mouse Weight v Average Tumor Volume (Capomulin)\")\n",
    "plt.xlabel('Weight (g)')\n",
    "plt.ylabel('Tumor Volume (mm3)')\n",
    "plt.show()\n",
    "\n",
    "#Calculate the correlation coefficient\n",
    "print(f\"The correlation coefficient between weight and tumor size is {round(st.pearsonr(capomulin_avg_weight,capomulin_avg_tumor)[0],2)}\")"
   ]
  },
  {
   "cell_type": "code",
   "execution_count": null,
   "metadata": {},
   "outputs": [],
   "source": []
  }
 ],
 "metadata": {
  "anaconda-cloud": {},
  "kernelspec": {
   "display_name": "Python 3",
   "language": "python",
   "name": "python3"
  },
  "language_info": {
   "codemirror_mode": {
    "name": "ipython",
    "version": 3
   },
   "file_extension": ".py",
   "mimetype": "text/x-python",
   "name": "python",
   "nbconvert_exporter": "python",
   "pygments_lexer": "ipython3",
   "version": "3.7.4"
  }
 },
 "nbformat": 4,
 "nbformat_minor": 2
}
